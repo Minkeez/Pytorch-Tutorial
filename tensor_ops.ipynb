{
  "nbformat": 4,
  "nbformat_minor": 0,
  "metadata": {
    "colab": {
      "provenance": [],
      "gpuType": "T4",
      "authorship_tag": "ABX9TyO5eosFEQwtUIBL8xvvJ4gy",
      "include_colab_link": true
    },
    "kernelspec": {
      "name": "python3",
      "display_name": "Python 3"
    },
    "language_info": {
      "name": "python"
    },
    "accelerator": "GPU"
  },
  "cells": [
    {
      "cell_type": "markdown",
      "metadata": {
        "id": "view-in-github",
        "colab_type": "text"
      },
      "source": [
        "<a href=\"https://colab.research.google.com/github/Minkeez/Pytorch-Tutorial/blob/main/tensor_ops.ipynb\" target=\"_parent\"><img src=\"https://colab.research.google.com/assets/colab-badge.svg\" alt=\"Open In Colab\"/></a>"
      ]
    },
    {
      "cell_type": "code",
      "source": [
        "import torch"
      ],
      "metadata": {
        "id": "2lGyptSSrGhq"
      },
      "execution_count": 11,
      "outputs": []
    },
    {
      "cell_type": "code",
      "source": [
        "my_torch = torch.arange(10)\n",
        "my_torch"
      ],
      "metadata": {
        "colab": {
          "base_uri": "https://localhost:8080/"
        },
        "id": "GEheong4yQU8",
        "outputId": "f46e3260-6c86-45a9-afb4-fcb1515add74"
      },
      "execution_count": 12,
      "outputs": [
        {
          "output_type": "execute_result",
          "data": {
            "text/plain": [
              "tensor([0, 1, 2, 3, 4, 5, 6, 7, 8, 9])"
            ]
          },
          "metadata": {},
          "execution_count": 12
        }
      ]
    },
    {
      "cell_type": "markdown",
      "source": [
        "# Reshape and View"
      ],
      "metadata": {
        "id": "hZzmOwsi0eRU"
      }
    },
    {
      "cell_type": "code",
      "source": [
        "my_torch = my_torch.reshape(2, 5)\n",
        "my_torch"
      ],
      "metadata": {
        "colab": {
          "base_uri": "https://localhost:8080/"
        },
        "id": "tcSuocbH0eX_",
        "outputId": "53dda7c4-a329-4c6b-8be6-351be588e7f0"
      },
      "execution_count": 13,
      "outputs": [
        {
          "output_type": "execute_result",
          "data": {
            "text/plain": [
              "tensor([[0, 1, 2, 3, 4],\n",
              "        [5, 6, 7, 8, 9]])"
            ]
          },
          "metadata": {},
          "execution_count": 13
        }
      ]
    },
    {
      "cell_type": "markdown",
      "source": [
        "# Reshape if we don't know the number of items using -1"
      ],
      "metadata": {
        "id": "0uvXqI0Z0el2"
      }
    },
    {
      "cell_type": "code",
      "source": [
        "my_torch2 = torch.arange(15)\n",
        "my_torch2"
      ],
      "metadata": {
        "colab": {
          "base_uri": "https://localhost:8080/"
        },
        "id": "FNdEv0C_0epp",
        "outputId": "78f49abb-34e7-43fe-cc37-0b9a9de1df44"
      },
      "execution_count": 20,
      "outputs": [
        {
          "output_type": "execute_result",
          "data": {
            "text/plain": [
              "tensor([ 0,  1,  2,  3,  4,  5,  6,  7,  8,  9, 10, 11, 12, 13, 14])"
            ]
          },
          "metadata": {},
          "execution_count": 20
        }
      ]
    },
    {
      "cell_type": "code",
      "source": [
        "my_torch2 = my_torch2.reshape(3, -1)\n",
        "my_torch2"
      ],
      "metadata": {
        "colab": {
          "base_uri": "https://localhost:8080/"
        },
        "id": "QOt5M9of0etw",
        "outputId": "0f952fb5-5063-437c-a453-55cedaf28f54"
      },
      "execution_count": 21,
      "outputs": [
        {
          "output_type": "execute_result",
          "data": {
            "text/plain": [
              "tensor([[ 0,  1,  2,  3,  4],\n",
              "        [ 5,  6,  7,  8,  9],\n",
              "        [10, 11, 12, 13, 14]])"
            ]
          },
          "metadata": {},
          "execution_count": 21
        }
      ]
    },
    {
      "cell_type": "code",
      "source": [
        "my_torch3 = torch.arange(10)\n",
        "my_torch3"
      ],
      "metadata": {
        "id": "W6YluA0t0exx",
        "colab": {
          "base_uri": "https://localhost:8080/"
        },
        "outputId": "c52ca730-a592-4862-ac30-a17d32dad963"
      },
      "execution_count": 22,
      "outputs": [
        {
          "output_type": "execute_result",
          "data": {
            "text/plain": [
              "tensor([0, 1, 2, 3, 4, 5, 6, 7, 8, 9])"
            ]
          },
          "metadata": {},
          "execution_count": 22
        }
      ]
    },
    {
      "cell_type": "code",
      "source": [
        "my_torch4 = my_torch3.view(2, 5)\n",
        "my_torch4"
      ],
      "metadata": {
        "colab": {
          "base_uri": "https://localhost:8080/"
        },
        "id": "RhqqTU820e1d",
        "outputId": "bc6017b5-3004-4f88-9f8a-19e90c0021c5"
      },
      "execution_count": 23,
      "outputs": [
        {
          "output_type": "execute_result",
          "data": {
            "text/plain": [
              "tensor([[0, 1, 2, 3, 4],\n",
              "        [5, 6, 7, 8, 9]])"
            ]
          },
          "metadata": {},
          "execution_count": 23
        }
      ]
    },
    {
      "cell_type": "markdown",
      "source": [
        "# with reshape and view, they will update"
      ],
      "metadata": {
        "id": "j8dI_d7A1V2n"
      }
    },
    {
      "cell_type": "code",
      "source": [
        "my_torch5 = torch.arange(10)\n",
        "my_torch5"
      ],
      "metadata": {
        "colab": {
          "base_uri": "https://localhost:8080/"
        },
        "id": "lPA1d8gy1V6d",
        "outputId": "159743eb-da2e-4c70-f07f-122bc88718b8"
      },
      "execution_count": 30,
      "outputs": [
        {
          "output_type": "execute_result",
          "data": {
            "text/plain": [
              "tensor([0, 1, 2, 3, 4, 5, 6, 7, 8, 9])"
            ]
          },
          "metadata": {},
          "execution_count": 30
        }
      ]
    },
    {
      "cell_type": "code",
      "source": [
        "my_torch6 = my_torch5.reshape(2, 5)\n",
        "my_torch6"
      ],
      "metadata": {
        "colab": {
          "base_uri": "https://localhost:8080/"
        },
        "id": "Psz7Vy_11V-K",
        "outputId": "ba5ac35d-43f9-4d1f-eabf-493acc93bc20"
      },
      "execution_count": 31,
      "outputs": [
        {
          "output_type": "execute_result",
          "data": {
            "text/plain": [
              "tensor([[0, 1, 2, 3, 4],\n",
              "        [5, 6, 7, 8, 9]])"
            ]
          },
          "metadata": {},
          "execution_count": 31
        }
      ]
    },
    {
      "cell_type": "code",
      "source": [
        "my_torch5[1] = 4141\n",
        "my_torch5"
      ],
      "metadata": {
        "colab": {
          "base_uri": "https://localhost:8080/"
        },
        "id": "q1GvEupT1WBu",
        "outputId": "25563a19-f0ba-4f97-85cf-bac8ca20fc3b"
      },
      "execution_count": 32,
      "outputs": [
        {
          "output_type": "execute_result",
          "data": {
            "text/plain": [
              "tensor([   0, 4141,    2,    3,    4,    5,    6,    7,    8,    9])"
            ]
          },
          "metadata": {},
          "execution_count": 32
        }
      ]
    },
    {
      "cell_type": "code",
      "source": [
        "my_torch6"
      ],
      "metadata": {
        "colab": {
          "base_uri": "https://localhost:8080/"
        },
        "id": "Ae8EEAd01WFu",
        "outputId": "8e80b2b6-7c29-412a-862b-813ddb390af1"
      },
      "execution_count": 33,
      "outputs": [
        {
          "output_type": "execute_result",
          "data": {
            "text/plain": [
              "tensor([[   0, 4141,    2,    3,    4],\n",
              "        [   5,    6,    7,    8,    9]])"
            ]
          },
          "metadata": {},
          "execution_count": 33
        }
      ]
    },
    {
      "cell_type": "markdown",
      "source": [
        "# Slices"
      ],
      "metadata": {
        "id": "SZR-VoF91WKI"
      }
    },
    {
      "cell_type": "code",
      "source": [
        "my_torch7 = torch.arange(10)\n",
        "my_torch7"
      ],
      "metadata": {
        "colab": {
          "base_uri": "https://localhost:8080/"
        },
        "id": "9QLsNHb4236y",
        "outputId": "ffb59c46-46c4-4157-d3ee-7f13bc5711b8"
      },
      "execution_count": 34,
      "outputs": [
        {
          "output_type": "execute_result",
          "data": {
            "text/plain": [
              "tensor([0, 1, 2, 3, 4, 5, 6, 7, 8, 9])"
            ]
          },
          "metadata": {},
          "execution_count": 34
        }
      ]
    },
    {
      "cell_type": "markdown",
      "source": [
        "# Grab a specific item"
      ],
      "metadata": {
        "id": "IE562wXN3FRW"
      }
    },
    {
      "cell_type": "code",
      "source": [
        "my_torch7[7]"
      ],
      "metadata": {
        "colab": {
          "base_uri": "https://localhost:8080/"
        },
        "id": "B02iQziH24cG",
        "outputId": "56976048-107a-4d23-9d84-254f231f37b7"
      },
      "execution_count": 35,
      "outputs": [
        {
          "output_type": "execute_result",
          "data": {
            "text/plain": [
              "tensor(7)"
            ]
          },
          "metadata": {},
          "execution_count": 35
        }
      ]
    },
    {
      "cell_type": "markdown",
      "source": [
        "# Grab slice"
      ],
      "metadata": {
        "id": "6hB8AAaA24fx"
      }
    },
    {
      "cell_type": "code",
      "source": [
        "my_torch8 = my_torch7.reshape(5, 2)\n",
        "my_torch8"
      ],
      "metadata": {
        "colab": {
          "base_uri": "https://localhost:8080/"
        },
        "id": "C8txcDTD24i5",
        "outputId": "8941cbcc-29c7-4ded-b687-613cdde5f595"
      },
      "execution_count": 36,
      "outputs": [
        {
          "output_type": "execute_result",
          "data": {
            "text/plain": [
              "tensor([[0, 1],\n",
              "        [2, 3],\n",
              "        [4, 5],\n",
              "        [6, 7],\n",
              "        [8, 9]])"
            ]
          },
          "metadata": {},
          "execution_count": 36
        }
      ]
    },
    {
      "cell_type": "code",
      "source": [
        "my_torch8[:, 1]"
      ],
      "metadata": {
        "colab": {
          "base_uri": "https://localhost:8080/"
        },
        "id": "UsUdock424nB",
        "outputId": "dea7f2c8-efd7-4c26-c1da-904b5840a905"
      },
      "execution_count": 37,
      "outputs": [
        {
          "output_type": "execute_result",
          "data": {
            "text/plain": [
              "tensor([1, 3, 5, 7, 9])"
            ]
          },
          "metadata": {},
          "execution_count": 37
        }
      ]
    },
    {
      "cell_type": "markdown",
      "source": [
        "# Return column"
      ],
      "metadata": {
        "id": "wPzJpSYu24qZ"
      }
    },
    {
      "cell_type": "code",
      "source": [
        "my_torch8[:, 1:]"
      ],
      "metadata": {
        "colab": {
          "base_uri": "https://localhost:8080/"
        },
        "id": "hYwZMxqt3Xv_",
        "outputId": "b5f0dd9b-c522-4fa7-b683-18493445ab2f"
      },
      "execution_count": 38,
      "outputs": [
        {
          "output_type": "execute_result",
          "data": {
            "text/plain": [
              "tensor([[1],\n",
              "        [3],\n",
              "        [5],\n",
              "        [7],\n",
              "        [9]])"
            ]
          },
          "metadata": {},
          "execution_count": 38
        }
      ]
    }
  ]
}